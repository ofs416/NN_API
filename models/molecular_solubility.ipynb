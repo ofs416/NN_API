{
 "cells": [
  {
   "cell_type": "code",
   "execution_count": 20,
   "metadata": {
    "id": "ZevvLDjT7rMD"
   },
   "outputs": [],
   "source": [
    "import numpy as np\n",
    "import random\n",
    "import matplotlib.pyplot as plt\n",
    "from pysmiles import read_smiles\n",
    "import pandas as pd\n",
    "import logging\n",
    "from tqdm import tqdm\n",
    "import torch\n",
    "from torch.nn import Sequential as Seq, Linear, ReLU, CrossEntropyLoss\n",
    "import torch.nn.functional as F\n",
    "from torch_geometric.nn import MessagePassing, GCNConv\n",
    "from torch_geometric.utils import remove_self_loops, add_self_loops, degree\n",
    "from torch_geometric.data import Data\n",
    "\n",
    "logging.getLogger(\"pysmiles\").setLevel(logging.CRITICAL)  # Anything higher than warning"
   ]
  },
  {
   "cell_type": "code",
   "execution_count": 21,
   "metadata": {
    "colab": {
     "base_uri": "https://localhost:8080/",
     "height": 69
    },
    "id": "n-Hysr12791c",
    "outputId": "a929a4c1-58ec-43fd-87e8-552ccc517ecd"
   },
   "outputs": [
    {
     "name": "stderr",
     "output_type": "stream",
     "text": [
      "100%|██████████| 9982/9982 [00:15<00:00, 639.23it/s] \n"
     ]
    }
   ],
   "source": [
    "df = pd.read_csv(\n",
    "    \"curated-solubility-dataset.csv\"\n",
    ")  # read dataset (https://dataverse.harvard.edu/dataset.xhtml?persistentId=doi:10.7910/DVN/OVHAW8)\n",
    "X_smiles = list(df[\"SMILES\"])  # get smiles strings from file\n",
    "Y = np.asarray(df[\"Solubility\"])  # get solubility values from file\n",
    "\n",
    "elements = [\n",
    "    \"K\",\n",
    "    \"Y\",\n",
    "    \"V\",\n",
    "    \"Sm\",\n",
    "    \"Dy\",\n",
    "    \"In\",\n",
    "    \"Lu\",\n",
    "    \"Hg\",\n",
    "    \"Co\",\n",
    "    \"Mg\",  # list of all elements in the dataset\n",
    "    \"Cu\",\n",
    "    \"Rh\",\n",
    "    \"Hf\",\n",
    "    \"O\",\n",
    "    \"As\",\n",
    "    \"Ge\",\n",
    "    \"Au\",\n",
    "    \"Mo\",\n",
    "    \"Br\",\n",
    "    \"Ce\",\n",
    "    \"Zr\",\n",
    "    \"Ag\",\n",
    "    \"Ba\",\n",
    "    \"N\",\n",
    "    \"Cr\",\n",
    "    \"Sr\",\n",
    "    \"Fe\",\n",
    "    \"Gd\",\n",
    "    \"I\",\n",
    "    \"Al\",\n",
    "    \"B\",\n",
    "    \"Se\",\n",
    "    \"Pr\",\n",
    "    \"Te\",\n",
    "    \"Cd\",\n",
    "    \"Pd\",\n",
    "    \"Si\",\n",
    "    \"Zn\",\n",
    "    \"Pb\",\n",
    "    \"Sn\",\n",
    "    \"Cl\",\n",
    "    \"Mn\",\n",
    "    \"Cs\",\n",
    "    \"Na\",\n",
    "    \"S\",\n",
    "    \"Ti\",\n",
    "    \"Ni\",\n",
    "    \"Ru\",\n",
    "    \"Ca\",\n",
    "    \"Nd\",\n",
    "    \"W\",\n",
    "    \"H\",\n",
    "    \"Li\",\n",
    "    \"Sb\",\n",
    "    \"Bi\",\n",
    "    \"La\",\n",
    "    \"Pt\",\n",
    "    \"Nb\",\n",
    "    \"P\",\n",
    "    \"F\",\n",
    "    \"C\",\n",
    "]\n",
    "\n",
    "\n",
    "# convert element to a one-hot vector of dimension len(elements)\n",
    "def element_to_onehot(element):\n",
    "    out = []\n",
    "    for i in range(0, len(element)):\n",
    "        v = np.zeros(len(elements))\n",
    "        v[elements.index(element[i])] = 1.0\n",
    "        out.append(v)\n",
    "    return np.asarray(out)\n",
    "\n",
    "\n",
    "# convert solubility value to one-hot class vector\n",
    "def val_to_class(val):\n",
    "    if val < -3.65:  # insoluble\n",
    "        return [1, 0, 0]\n",
    "    elif val < -1.69:  # slightly soluble\n",
    "        return [0, 1, 0]\n",
    "    else:  # soluble\n",
    "        return [0, 0, 1]\n",
    "\n",
    "\n",
    "# process SMILES strings into graphs\n",
    "nodes = []\n",
    "edge_index = []\n",
    "for smiles in tqdm(X_smiles):\n",
    "    try:\n",
    "        G = read_smiles(smiles, explicit_hydrogen=True)\n",
    "        feature = element_to_onehot(np.asarray(G.nodes(data=\"element\"))[:, 1])\n",
    "        edges = np.asarray(G.edges)\n",
    "        index = np.asarray(\n",
    "            [edges[:, 0], edges[:, 1]]\n",
    "        )  # reshape indices into shape [2, -1]\n",
    "        nodes.append(feature)\n",
    "        edge_index.append(index)\n",
    "    except:\n",
    "        pass"
   ]
  },
  {
   "cell_type": "code",
   "execution_count": 22,
   "metadata": {
    "colab": {
     "base_uri": "https://localhost:8080/"
    },
    "id": "fXcJSQmn9ebx",
    "outputId": "257a8d9f-4a04-46be-cb49-01d2a719772f"
   },
   "outputs": [
    {
     "name": "stderr",
     "output_type": "stream",
     "text": [
      "100%|██████████| 9947/9947 [00:00<00:00, 10705.83it/s]\n"
     ]
    }
   ],
   "source": [
    "# Generate Data objects\n",
    "data = list()\n",
    "\n",
    "# process graphs into torch_geometric Data objects\n",
    "for i in tqdm(range(0, len(nodes))):\n",
    "    x = torch.tensor(\n",
    "        nodes[i], dtype=torch.float\n",
    "    )  # convert node features into torch tensor\n",
    "    edges = torch.tensor(\n",
    "        edge_index[i], dtype=torch.long\n",
    "    )  # convert edge index into torch tensor\n",
    "    y = torch.tensor(\n",
    "        [val_to_class(Y[i])], dtype=torch.float\n",
    "    )  # change shape of label and convert to tensor\n",
    "    data.append(\n",
    "        Data(x=x, edge_index=edges, y=y)\n",
    "    )  # add the Data object to the list of data\n",
    "random.shuffle(data)\n",
    "train = data[: int(len(data) * 0.8)]  # train set\n",
    "test = data[int(len(data) * 0.8) :]  # val set\n",
    "train = data"
   ]
  },
  {
   "cell_type": "code",
   "execution_count": 23,
   "metadata": {
    "id": "SsXl2-Z9kIl2"
   },
   "outputs": [],
   "source": [
    "# define the message passing network\n",
    "class Net(torch.nn.Module):\n",
    "    def __init__(self):\n",
    "        super(Net, self).__init__()\n",
    "        self.conv1 = GCNConv(61, 32)\n",
    "        self.conv2 = GCNConv(32, 32)\n",
    "        self.conv3 = GCNConv(32, 32)\n",
    "        self.conv4 = GCNConv(32, 32)\n",
    "        self.lin1 = Linear(32, 16)\n",
    "        self.lin2 = Linear(16, 3)\n",
    "\n",
    "    def forward(self, data):\n",
    "        x, edge_index = data.x, data.edge_index\n",
    "\n",
    "        x = self.conv1(x, edge_index)\n",
    "        x = F.relu(x)\n",
    "        x = F.dropout(x, p=0.25, training=self.training)\n",
    "\n",
    "        x = self.conv2(x, edge_index)\n",
    "        x = F.relu(x)\n",
    "        x = F.dropout(x, p=0.25, training=self.training)\n",
    "\n",
    "        x = self.conv3(x, edge_index)\n",
    "        x = F.relu(x)\n",
    "        x = F.dropout(x, p=0.25, training=self.training)\n",
    "\n",
    "        x = self.conv4(x, edge_index)\n",
    "        x = F.relu(x)\n",
    "\n",
    "        x = torch.sum(x, dim=0)\n",
    "        x = self.lin1(x)\n",
    "        x = F.relu(x)\n",
    "\n",
    "        x = self.lin2(x)\n",
    "\n",
    "        return x"
   ]
  },
  {
   "cell_type": "code",
   "execution_count": 24,
   "metadata": {},
   "outputs": [],
   "source": [
    "# set up device and create model\n",
    "device = torch.device(\n",
    "    \"cuda\" if torch.cuda.is_available() else \"cpu\"\n",
    ")  # use CUDA if available\n",
    "model = Net().to(device)  # create network and send to the device memory\n",
    "optimizer = torch.optim.Adam(\n",
    "    model.parameters(), lr=0.001, weight_decay=1e-4\n",
    ")  # use Adam optimizer\n",
    "CSE = CrossEntropyLoss()  # define loss"
   ]
  },
  {
   "cell_type": "code",
   "execution_count": 25,
   "metadata": {
    "colab": {
     "base_uri": "https://localhost:8080/"
    },
    "id": "OruDaljhkJo1",
    "outputId": "d8e01387-84e6-444d-b3d7-531a6a6d5f9d"
   },
   "outputs": [
    {
     "name": "stderr",
     "output_type": "stream",
     "text": [
      "100%|██████████| 9947/9947 [01:35<00:00, 104.27it/s]\n"
     ]
    },
    {
     "name": "stdout",
     "output_type": "stream",
     "text": [
      "Epoch: 000, Average loss: 1.07415, Accuracy: 0.39630\n"
     ]
    },
    {
     "name": "stderr",
     "output_type": "stream",
     "text": [
      "100%|██████████| 9947/9947 [01:15<00:00, 131.12it/s] "
     ]
    },
    {
     "name": "stdout",
     "output_type": "stream",
     "text": [
      "Epoch: 001, Average loss: 1.06745, Accuracy: 0.41259\n"
     ]
    },
    {
     "name": "stderr",
     "output_type": "stream",
     "text": [
      "\n"
     ]
    }
   ],
   "source": [
    "# train model\n",
    "model.train()  # set model to training mode\n",
    "for epoch in range(2):  # run for epochs of training\n",
    "    sum_loss = 0  # used to compute average loss in an epoch\n",
    "    num_correct = 0\n",
    "    random.shuffle(train)  # shuffle the training data each epoch\n",
    "    for d in tqdm(train):  # go over each training point\n",
    "        data = d.to(device)  # send data to device\n",
    "        optimizer.zero_grad()  # zero gradients\n",
    "        out = model(data)  # evaluate data point\n",
    "        if torch.argmax(out) == torch.argmax(\n",
    "            data.y\n",
    "        ):  # if prediction is correct, increment counter for accuracy calculation\n",
    "            num_correct += 1\n",
    "        loss = CSE(\n",
    "            torch.reshape(out, [1, 3]), torch.reshape(torch.argmax(data.y), [1])\n",
    "        )  # compute mean squared error loss\n",
    "        sum_loss += float(loss)  # add loss value to aggregate loss\n",
    "        loss.backward()  # compute gradients\n",
    "        optimizer.step()  # apply optimization\n",
    "    print(\n",
    "        \"Epoch: {:03d}, Average loss: {:.5f}, Accuracy: {:.5f}\".format(\n",
    "            epoch, sum_loss / len(train), num_correct / len(train)\n",
    "        )\n",
    "    )"
   ]
  },
  {
   "cell_type": "code",
   "execution_count": 26,
   "metadata": {},
   "outputs": [
    {
     "name": "stderr",
     "output_type": "stream",
     "text": [
      "100%|██████████| 1990/1990 [00:08<00:00, 222.42it/s]\n"
     ]
    },
    {
     "name": "stdout",
     "output_type": "stream",
     "text": [
      "Test accuracy: 0.3773869346733668\n"
     ]
    },
    {
     "data": {
      "text/plain": [
       "(array([ 174.,  265., 1551.]),\n",
       " array([0.        , 0.66666667, 1.33333333, 2.        ]),\n",
       " <BarContainer object of 3 artists>)"
      ]
     },
     "execution_count": 26,
     "metadata": {},
     "output_type": "execute_result"
    },
    {
     "data": {
      "image/png": "[encoded data removed]",
      "text/plain": [
       "<Figure size 640x480 with 1 Axes>"
      ]
     },
     "metadata": {},
     "output_type": "display_data"
    }
   ],
   "source": [
    "# test the model and display a histogram of the outputs\n",
    "num_correct = 0\n",
    "model.eval()\n",
    "predictions = list()\n",
    "for t in tqdm(test):\n",
    "    d = t.to(device)\n",
    "    out = model(d)\n",
    "    if torch.argmax(out) == torch.argmax(\n",
    "        d.y\n",
    "    ):  # if prediction is correct, increment counter for accuracy calculation\n",
    "        num_correct += 1\n",
    "    predictions.append(torch.argmax(out).item())\n",
    "\n",
    "print(\"Test accuracy: \" + str(num_correct / len(test)))\n",
    "plt.hist(predictions, bins=3)"
   ]
  },
  {
   "cell_type": "code",
   "execution_count": 27,
   "metadata": {
    "id": "zTq0pyD8kLPD"
   },
   "outputs": [],
   "source": [
    "# test SMILES string\n",
    "def evaluate_smiles(smiles_string):\n",
    "    classes = [\"insoluble\", \"slightly soluble\", \"soluble\"]\n",
    "    G = read_smiles(smiles_string, explicit_hydrogen=True)  # decode smiles string\n",
    "    feature = element_to_onehot(\n",
    "        np.asarray(G.nodes(data=\"element\"))[:, 1]\n",
    "    )  # convert element to one-hot vector\n",
    "    edges = np.asarray(G.edges)  # get edge array\n",
    "    index = np.asarray(\n",
    "        [edges[:, 0], edges[:, 1]]\n",
    "    )  # reformat edge array to torch geometric suitable format\n",
    "    d = Data(\n",
    "        x=torch.tensor(feature, dtype=torch.float),\n",
    "        edge_index=torch.tensor(index, dtype=torch.long),\n",
    "    )  # create torch gemoetry Data object\n",
    "    data = d.to(device)  # send data to device memory\n",
    "    model.eval()  # set model to evaluate mode\n",
    "    print(\n",
    "        classes[torch.argmax(torch.softmax(model(data), dim=0)).item()]\n",
    "    )  # evaluate the test data"
   ]
  },
  {
   "cell_type": "code",
   "execution_count": 28,
   "metadata": {},
   "outputs": [
    {
     "name": "stdout",
     "output_type": "stream",
     "text": [
      "soluble\n"
     ]
    }
   ],
   "source": [
    "evaluate_smiles(\"C(C(C1C(=C(C(=O)O1)O)O)O)O\")  # test out the model on Vitamin C"
   ]
  },
  {
   "cell_type": "code",
   "execution_count": 29,
   "metadata": {},
   "outputs": [],
   "source": [
    "model_compiled = torch.compile(model)"
   ]
  },
  {
   "cell_type": "code",
   "execution_count": 30,
   "metadata": {},
   "outputs": [
    {
     "ename": "RuntimeError",
     "evalue": "\n'Tensor (inferred)' object has no attribute or method 'x'.:\n  File \"/tmp/ipykernel_8823/3717085795.py\", line 13\n    def forward(self, data):\n        x, edge_index = data.x, data.edge_index\n                        ~~~~~~ <--- HERE\n    \n        x = self.conv1(x, edge_index)\n",
     "output_type": "error",
     "traceback": [
      "\u001b[0;31m---------------------------------------------------------------------------\u001b[0m",
      "\u001b[0;31mRuntimeError\u001b[0m                              Traceback (most recent call last)",
      "Cell \u001b[0;32mIn[30], line 1\u001b[0m\n\u001b[0;32m----> 1\u001b[0m scripted_module \u001b[38;5;241m=\u001b[39m \u001b[43mtorch\u001b[49m\u001b[38;5;241;43m.\u001b[39;49m\u001b[43mjit\u001b[49m\u001b[38;5;241;43m.\u001b[39;49m\u001b[43mscript\u001b[49m\u001b[43m(\u001b[49m\u001b[43mmodel\u001b[49m\u001b[43m)\u001b[49m\n\u001b[1;32m      2\u001b[0m scripted_module\u001b[38;5;241m.\u001b[39msave(\u001b[38;5;124mf\u001b[39m\u001b[38;5;124m\"\u001b[39m\u001b[38;5;132;01m{\u001b[39;00mmodel\u001b[38;5;132;01m}\u001b[39;00m\u001b[38;5;124m_scripted.pt\u001b[39m\u001b[38;5;124m\"\u001b[39m)\n\u001b[1;32m      3\u001b[0m \u001b[38;5;28mprint\u001b[39m(\u001b[38;5;124mf\u001b[39m\u001b[38;5;124m\"\u001b[39m\u001b[38;5;124mScripted TorchScript model saved to \u001b[39m\u001b[38;5;132;01m{\u001b[39;00mexport_path\u001b[38;5;132;01m}\u001b[39;00m\u001b[38;5;124m_scripted.pt\u001b[39m\u001b[38;5;124m\"\u001b[39m)\n",
      "File \u001b[0;32m~/code/NN_API/.venv/lib/python3.12/site-packages/torch/jit/_script.py:1429\u001b[0m, in \u001b[0;36mscript\u001b[0;34m(obj, optimize, _frames_up, _rcb, example_inputs)\u001b[0m\n\u001b[1;32m   1427\u001b[0m prev \u001b[38;5;241m=\u001b[39m _TOPLEVEL\n\u001b[1;32m   1428\u001b[0m _TOPLEVEL \u001b[38;5;241m=\u001b[39m \u001b[38;5;28;01mFalse\u001b[39;00m\n\u001b[0;32m-> 1429\u001b[0m ret \u001b[38;5;241m=\u001b[39m \u001b[43m_script_impl\u001b[49m\u001b[43m(\u001b[49m\n\u001b[1;32m   1430\u001b[0m \u001b[43m    \u001b[49m\u001b[43mobj\u001b[49m\u001b[38;5;241;43m=\u001b[39;49m\u001b[43mobj\u001b[49m\u001b[43m,\u001b[49m\n\u001b[1;32m   1431\u001b[0m \u001b[43m    \u001b[49m\u001b[43moptimize\u001b[49m\u001b[38;5;241;43m=\u001b[39;49m\u001b[43moptimize\u001b[49m\u001b[43m,\u001b[49m\n\u001b[1;32m   1432\u001b[0m \u001b[43m    \u001b[49m\u001b[43m_frames_up\u001b[49m\u001b[38;5;241;43m=\u001b[39;49m\u001b[43m_frames_up\u001b[49m\u001b[43m \u001b[49m\u001b[38;5;241;43m+\u001b[39;49m\u001b[43m \u001b[49m\u001b[38;5;241;43m1\u001b[39;49m\u001b[43m,\u001b[49m\n\u001b[1;32m   1433\u001b[0m \u001b[43m    \u001b[49m\u001b[43m_rcb\u001b[49m\u001b[38;5;241;43m=\u001b[39;49m\u001b[43m_rcb\u001b[49m\u001b[43m,\u001b[49m\n\u001b[1;32m   1434\u001b[0m \u001b[43m    \u001b[49m\u001b[43mexample_inputs\u001b[49m\u001b[38;5;241;43m=\u001b[39;49m\u001b[43mexample_inputs\u001b[49m\u001b[43m,\u001b[49m\n\u001b[1;32m   1435\u001b[0m \u001b[43m\u001b[49m\u001b[43m)\u001b[49m\n\u001b[1;32m   1437\u001b[0m \u001b[38;5;28;01mif\u001b[39;00m prev:\n\u001b[1;32m   1438\u001b[0m     log_torchscript_usage(\u001b[38;5;124m\"\u001b[39m\u001b[38;5;124mscript\u001b[39m\u001b[38;5;124m\"\u001b[39m, model_id\u001b[38;5;241m=\u001b[39m_get_model_id(ret))\n",
      "File \u001b[0;32m~/code/NN_API/.venv/lib/python3.12/site-packages/torch/jit/_script.py:1147\u001b[0m, in \u001b[0;36m_script_impl\u001b[0;34m(obj, optimize, _frames_up, _rcb, example_inputs)\u001b[0m\n\u001b[1;32m   1145\u001b[0m \u001b[38;5;28;01mif\u001b[39;00m \u001b[38;5;28misinstance\u001b[39m(obj, torch\u001b[38;5;241m.\u001b[39mnn\u001b[38;5;241m.\u001b[39mModule):\n\u001b[1;32m   1146\u001b[0m     obj \u001b[38;5;241m=\u001b[39m call_prepare_scriptable_func(obj)\n\u001b[0;32m-> 1147\u001b[0m     \u001b[38;5;28;01mreturn\u001b[39;00m \u001b[43mtorch\u001b[49m\u001b[38;5;241;43m.\u001b[39;49m\u001b[43mjit\u001b[49m\u001b[38;5;241;43m.\u001b[39;49m\u001b[43m_recursive\u001b[49m\u001b[38;5;241;43m.\u001b[39;49m\u001b[43mcreate_script_module\u001b[49m\u001b[43m(\u001b[49m\n\u001b[1;32m   1148\u001b[0m \u001b[43m        \u001b[49m\u001b[43mobj\u001b[49m\u001b[43m,\u001b[49m\u001b[43m \u001b[49m\u001b[43mtorch\u001b[49m\u001b[38;5;241;43m.\u001b[39;49m\u001b[43mjit\u001b[49m\u001b[38;5;241;43m.\u001b[39;49m\u001b[43m_recursive\u001b[49m\u001b[38;5;241;43m.\u001b[39;49m\u001b[43minfer_methods_to_compile\u001b[49m\n\u001b[1;32m   1149\u001b[0m \u001b[43m    \u001b[49m\u001b[43m)\u001b[49m\n\u001b[1;32m   1150\u001b[0m \u001b[38;5;28;01melse\u001b[39;00m:\n\u001b[1;32m   1151\u001b[0m     obj \u001b[38;5;241m=\u001b[39m obj\u001b[38;5;241m.\u001b[39m__prepare_scriptable__() \u001b[38;5;28;01mif\u001b[39;00m \u001b[38;5;28mhasattr\u001b[39m(obj, \u001b[38;5;124m\"\u001b[39m\u001b[38;5;124m__prepare_scriptable__\u001b[39m\u001b[38;5;124m\"\u001b[39m) \u001b[38;5;28;01melse\u001b[39;00m obj  \u001b[38;5;66;03m# type: ignore[operator]\u001b[39;00m\n",
      "File \u001b[0;32m~/code/NN_API/.venv/lib/python3.12/site-packages/torch/jit/_recursive.py:557\u001b[0m, in \u001b[0;36mcreate_script_module\u001b[0;34m(nn_module, stubs_fn, share_types, is_tracing)\u001b[0m\n\u001b[1;32m    555\u001b[0m \u001b[38;5;28;01mif\u001b[39;00m \u001b[38;5;129;01mnot\u001b[39;00m is_tracing:\n\u001b[1;32m    556\u001b[0m     AttributeTypeIsSupportedChecker()\u001b[38;5;241m.\u001b[39mcheck(nn_module)\n\u001b[0;32m--> 557\u001b[0m \u001b[38;5;28;01mreturn\u001b[39;00m \u001b[43mcreate_script_module_impl\u001b[49m\u001b[43m(\u001b[49m\u001b[43mnn_module\u001b[49m\u001b[43m,\u001b[49m\u001b[43m \u001b[49m\u001b[43mconcrete_type\u001b[49m\u001b[43m,\u001b[49m\u001b[43m \u001b[49m\u001b[43mstubs_fn\u001b[49m\u001b[43m)\u001b[49m\n",
      "File \u001b[0;32m~/code/NN_API/.venv/lib/python3.12/site-packages/torch/jit/_recursive.py:634\u001b[0m, in \u001b[0;36mcreate_script_module_impl\u001b[0;34m(nn_module, concrete_type, stubs_fn)\u001b[0m\n\u001b[1;32m    632\u001b[0m \u001b[38;5;66;03m# Compile methods if necessary\u001b[39;00m\n\u001b[1;32m    633\u001b[0m \u001b[38;5;28;01mif\u001b[39;00m concrete_type \u001b[38;5;129;01mnot\u001b[39;00m \u001b[38;5;129;01min\u001b[39;00m concrete_type_store\u001b[38;5;241m.\u001b[39mmethods_compiled:\n\u001b[0;32m--> 634\u001b[0m     \u001b[43mcreate_methods_and_properties_from_stubs\u001b[49m\u001b[43m(\u001b[49m\n\u001b[1;32m    635\u001b[0m \u001b[43m        \u001b[49m\u001b[43mconcrete_type\u001b[49m\u001b[43m,\u001b[49m\u001b[43m \u001b[49m\u001b[43mmethod_stubs\u001b[49m\u001b[43m,\u001b[49m\u001b[43m \u001b[49m\u001b[43mproperty_stubs\u001b[49m\n\u001b[1;32m    636\u001b[0m \u001b[43m    \u001b[49m\u001b[43m)\u001b[49m\n\u001b[1;32m    637\u001b[0m     \u001b[38;5;66;03m# Create hooks after methods to ensure no name collisions between hooks and methods.\u001b[39;00m\n\u001b[1;32m    638\u001b[0m     \u001b[38;5;66;03m# If done before, hooks can overshadow methods that aren't exported.\u001b[39;00m\n\u001b[1;32m    639\u001b[0m     create_hooks_from_stubs(concrete_type, hook_stubs, pre_hook_stubs)\n",
      "File \u001b[0;32m~/code/NN_API/.venv/lib/python3.12/site-packages/torch/jit/_recursive.py:466\u001b[0m, in \u001b[0;36mcreate_methods_and_properties_from_stubs\u001b[0;34m(concrete_type, method_stubs, property_stubs)\u001b[0m\n\u001b[1;32m    463\u001b[0m property_defs \u001b[38;5;241m=\u001b[39m [p\u001b[38;5;241m.\u001b[39mdef_ \u001b[38;5;28;01mfor\u001b[39;00m p \u001b[38;5;129;01min\u001b[39;00m property_stubs]\n\u001b[1;32m    464\u001b[0m property_rcbs \u001b[38;5;241m=\u001b[39m [p\u001b[38;5;241m.\u001b[39mresolution_callback \u001b[38;5;28;01mfor\u001b[39;00m p \u001b[38;5;129;01min\u001b[39;00m property_stubs]\n\u001b[0;32m--> 466\u001b[0m \u001b[43mconcrete_type\u001b[49m\u001b[38;5;241;43m.\u001b[39;49m\u001b[43m_create_methods_and_properties\u001b[49m\u001b[43m(\u001b[49m\n\u001b[1;32m    467\u001b[0m \u001b[43m    \u001b[49m\u001b[43mproperty_defs\u001b[49m\u001b[43m,\u001b[49m\u001b[43m \u001b[49m\u001b[43mproperty_rcbs\u001b[49m\u001b[43m,\u001b[49m\u001b[43m \u001b[49m\u001b[43mmethod_defs\u001b[49m\u001b[43m,\u001b[49m\u001b[43m \u001b[49m\u001b[43mmethod_rcbs\u001b[49m\u001b[43m,\u001b[49m\u001b[43m \u001b[49m\u001b[43mmethod_defaults\u001b[49m\n\u001b[1;32m    468\u001b[0m \u001b[43m\u001b[49m\u001b[43m)\u001b[49m\n",
      "\u001b[0;31mRuntimeError\u001b[0m: \n'Tensor (inferred)' object has no attribute or method 'x'.:\n  File \"/tmp/ipykernel_8823/3717085795.py\", line 13\n    def forward(self, data):\n        x, edge_index = data.x, data.edge_index\n                        ~~~~~~ <--- HERE\n    \n        x = self.conv1(x, edge_index)\n"
     ]
    }
   ],
   "source": [
    "scripted_module = torch.jit.script(model)\n",
    "scripted_module.save(f\"{model}_scripted.pt\")\n",
    "print(f\"Scripted TorchScript model saved to {export_path}_scripted.pt\")"
   ]
  }
 ],
 "metadata": {
  "colab": {
   "name": "PyTorch Test.ipynb",
   "provenance": []
  },
  "kernelspec": {
   "display_name": ".venv",
   "language": "python",
   "name": "python3"
  },
  "language_info": {
   "codemirror_mode": {
    "name": "ipython",
    "version": 3
   },
   "file_extension": ".py",
   "mimetype": "text/x-python",
   "name": "python",
   "nbconvert_exporter": "python",
   "pygments_lexer": "ipython3",
   "version": "3.12.8"
  }
 },
 "nbformat": 4,
 "nbformat_minor": 1
}
